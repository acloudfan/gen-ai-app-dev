{
 "cells": [
  {
   "cell_type": "markdown",
   "id": "c266e58e-0536-419b-be9c-2bd8b6415c5e",
   "metadata": {},
   "source": [
    "# Chat message classes\n",
    "\n",
    "#### API Reference\n",
    "https://api.python.langchain.com/en/latest/core_api_reference.html#module-langchain_core.messages\n",
    "\n"
   ]
  },
  {
   "cell_type": "markdown",
   "id": "1fa4b9f5-4f7e-4bbb-b97d-a7db138eb8da",
   "metadata": {},
   "source": [
    "## 1. Import message classes"
   ]
  },
  {
   "cell_type": "code",
   "execution_count": 1,
   "id": "09a86498-f83e-4db2-a8b4-a4fdb666a933",
   "metadata": {},
   "outputs": [],
   "source": [
    "from langchain_core.messages import HumanMessage, AIMessage, SystemMessage, ChatMessage"
   ]
  },
  {
   "cell_type": "markdown",
   "id": "f0fac3b9-350e-455d-b923-c55cdf8a4389",
   "metadata": {},
   "source": [
    "## 2. Create a messages"
   ]
  },
  {
   "cell_type": "code",
   "execution_count": 2,
   "id": "ffafd6e4-f81a-4182-8c1f-8d50ecdd89e9",
   "metadata": {},
   "outputs": [
    {
     "name": "stdout",
     "output_type": "stream",
     "text": [
      "Message type =  system\n"
     ]
    }
   ],
   "source": [
    "system_message = SystemMessage(content=\"You are a polite customer service assistant.\", id=\"1\")\n",
    "print(\"Message type = \", system_message.type)\n"
   ]
  },
  {
   "cell_type": "code",
   "execution_count": 3,
   "id": "d484ac6a-584c-46ed-8383-d26787f23268",
   "metadata": {},
   "outputs": [
    {
     "name": "stdout",
     "output_type": "stream",
     "text": [
      "Message type =  human\n"
     ]
    }
   ],
   "source": [
    "human_message = HumanMessage(content=\"Hello\", id=\"1\")\n",
    "print(\"Message type = \", human_message.type)\n"
   ]
  },
  {
   "cell_type": "code",
   "execution_count": 4,
   "id": "d7c8b036-6f59-432d-a89e-a0dafb218335",
   "metadata": {},
   "outputs": [
    {
     "name": "stdout",
     "output_type": "stream",
     "text": [
      "Message type =  ai\n"
     ]
    }
   ],
   "source": [
    "ai_message = AIMessage(content=\"Hi there !! how can I help you today?\")\n",
    "print(\"Message type = \", ai_message.type)\n"
   ]
  },
  {
   "cell_type": "markdown",
   "id": "9a20875f-8d3d-4065-a75e-5d369a399210",
   "metadata": {},
   "source": [
    "## 3. Message lists\n",
    "\n",
    "Chat models expect a list of messages as input"
   ]
  },
  {
   "cell_type": "code",
   "execution_count": 5,
   "id": "98253cba-f0f8-4340-80dd-2c1e8ac94c6a",
   "metadata": {},
   "outputs": [
    {
     "name": "stdout",
     "output_type": "stream",
     "text": [
      "================================\u001b[1m System Message \u001b[0m================================\n",
      "\n",
      "You are a polite customer service assistant.\n",
      "================================\u001b[1m Human Message \u001b[0m=================================\n",
      "\n",
      "Hello\n",
      "==================================\u001b[1m Ai Message \u001b[0m==================================\n",
      "\n",
      "Hi there !! how can I help you today?\n"
     ]
    }
   ],
   "source": [
    "messages = [\n",
    "    system_message,\n",
    "    human_message,\n",
    "    ai_message]\n",
    "\n",
    "for message in messages:\n",
    "    message.pretty_print()"
   ]
  },
  {
   "cell_type": "markdown",
   "id": "8dd31fe5-59f2-44c1-abda-25a5268fd44e",
   "metadata": {},
   "source": [
    "## 4. Chat message template\n",
    "https://api.python.langchain.com/en/latest/prompts/langchain_core.prompts.chat.ChatPromptTemplate.html#langchain_core.prompts.chat.ChatPromptTemplate\n",
    "\n"
   ]
  },
  {
   "cell_type": "code",
   "execution_count": 26,
   "id": "d1b2303f-885a-465f-adea-ecfc448eb811",
   "metadata": {},
   "outputs": [
    {
     "name": "stdout",
     "output_type": "stream",
     "text": [
      "System: You are a helpful AI bot. Your name is raj.\n",
      "Human: Hello, how are you doing?\n",
      "AI: I'm doing well, thanks!\n",
      "Human: hello world!!\n"
     ]
    }
   ],
   "source": [
    "from langchain_core.prompts import ChatPromptTemplate\n",
    "\n",
    "# Simple prompt\n",
    "template_1 = ChatPromptTemplate([\n",
    "    (\"system\", \"You are a helpful AI bot. Your name is {name}.\"),\n",
    "    (\"human\", \"Hello, how are you doing?\"),\n",
    "    (\"ai\", \"I'm doing well, thanks!\"),\n",
    "    (\"human\", \"{user_input}\"),\n",
    "])\n",
    "\n",
    "# Ouputs a string\n",
    "messages = template_1.format(name=\"raj\", user_input=\"hello world!!\")\n",
    "print(messages)\n",
    "   "
   ]
  },
  {
   "cell_type": "markdown",
   "id": "00872b63-5ef8-4997-b5cf-926717198d88",
   "metadata": {},
   "source": [
    "#### Generate a list of messages using invoke"
   ]
  },
  {
   "cell_type": "code",
   "execution_count": 31,
   "id": "a1ed421c-09b1-48a2-ae08-8b55e8dddb72",
   "metadata": {},
   "outputs": [
    {
     "name": "stdout",
     "output_type": "stream",
     "text": [
      "\n",
      " <class 'langchain_core.messages.system.SystemMessage'>\n",
      "================================\u001b[1m System Message \u001b[0m================================\n",
      "\n",
      "You are a helpful AI bot. Your name is raj.\n",
      "\n",
      " <class 'langchain_core.messages.human.HumanMessage'>\n",
      "================================\u001b[1m Human Message \u001b[0m=================================\n",
      "\n",
      "Hello, how are you doing?\n",
      "\n",
      " <class 'langchain_core.messages.ai.AIMessage'>\n",
      "==================================\u001b[1m Ai Message \u001b[0m==================================\n",
      "\n",
      "I'm doing well, thanks!\n",
      "\n",
      " <class 'langchain_core.messages.human.HumanMessage'>\n",
      "================================\u001b[1m Human Message \u001b[0m=================================\n",
      "\n",
      "hello world!!\n"
     ]
    }
   ],
   "source": [
    "# Outputs a ChatPromptValue\n",
    "chat_messages = template_1.invoke({\"name\": \"raj\", \"user_input\": \"hello world!!\"})\n",
    "\n",
    "for message in chat_messages.messages:\n",
    "    print(\"\\n\", type(message))\n",
    "    message.pretty_print()"
   ]
  },
  {
   "cell_type": "markdown",
   "id": "03d5defe-acd7-4198-8d44-63bfdefa1c11",
   "metadata": {},
   "source": [
    "#### Create template from messages\n",
    "Create a chat prompt template from a variety of message formats."
   ]
  },
  {
   "cell_type": "code",
   "execution_count": 34,
   "id": "a18d414d-592b-4976-bfdb-3a1d4f749442",
   "metadata": {},
   "outputs": [
    {
     "data": {
      "text/plain": [
       "ChatPromptTemplate(input_variables=['name'], input_types={}, partial_variables={}, messages=[HumanMessagePromptTemplate(prompt=PromptTemplate(input_variables=['name'], input_types={}, partial_variables={}, template='Hello, my name is {name}?'), additional_kwargs={}), AIMessage(content=\"I'm doing well, thanks!\", additional_kwargs={}, response_metadata={}), HumanMessagePromptTemplate(prompt=PromptTemplate(input_variables=[], input_types={}, partial_variables={}, template=\"That's good to hear.\"), additional_kwargs={})])"
      ]
     },
     "execution_count": 34,
     "metadata": {},
     "output_type": "execute_result"
    }
   ],
   "source": [
    "template_2 = ChatPromptTemplate.from_messages([\n",
    "    (\"human\", \"Hello, my name is {name}?\"),\n",
    "    AIMessage(content = \"I'm doing well, thanks!\"),\n",
    "    (\"human\", \"That's good to hear.\"),\n",
    "])\n",
    "\n",
    "template_2"
   ]
  },
  {
   "cell_type": "code",
   "execution_count": 36,
   "id": "3077e031-1c77-4d2e-b6fa-418d34ccde71",
   "metadata": {},
   "outputs": [
    {
     "name": "stdout",
     "output_type": "stream",
     "text": [
      "\n",
      " <class 'langchain_core.messages.human.HumanMessage'>\n",
      "================================\u001b[1m Human Message \u001b[0m=================================\n",
      "\n",
      "Hello, my name is raj?\n",
      "\n",
      " <class 'langchain_core.messages.ai.AIMessage'>\n",
      "==================================\u001b[1m Ai Message \u001b[0m==================================\n",
      "\n",
      "I'm doing well, thanks!\n",
      "\n",
      " <class 'langchain_core.messages.human.HumanMessage'>\n",
      "================================\u001b[1m Human Message \u001b[0m=================================\n",
      "\n",
      "That's good to hear.\n"
     ]
    }
   ],
   "source": [
    "chat_messages = template_2.invoke({\"name\": \"raj\"})\n",
    "\n",
    "for message in chat_messages.messages:\n",
    "    print(\"\\n\", type(message))\n",
    "    message.pretty_print()"
   ]
  },
  {
   "cell_type": "code",
   "execution_count": null,
   "id": "30136711-8af6-4ea7-834d-f27cdd190ac2",
   "metadata": {},
   "outputs": [],
   "source": []
  }
 ],
 "metadata": {
  "kernelspec": {
   "display_name": "Python 3 (ipykernel)",
   "language": "python",
   "name": "python3"
  },
  "language_info": {
   "codemirror_mode": {
    "name": "ipython",
    "version": 3
   },
   "file_extension": ".py",
   "mimetype": "text/x-python",
   "name": "python",
   "nbconvert_exporter": "python",
   "pygments_lexer": "ipython3",
   "version": "3.12.9"
  }
 },
 "nbformat": 4,
 "nbformat_minor": 5
}
