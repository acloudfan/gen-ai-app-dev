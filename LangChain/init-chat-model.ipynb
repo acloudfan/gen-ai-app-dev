{
 "cells": [
  {
   "cell_type": "markdown",
   "id": "60e65dea-50a6-476e-b205-393e36ff1095",
   "metadata": {},
   "source": [
    "# init_chat_model\n",
    "https://python.langchain.com/api_reference/langchain/chat_models/langchain.chat_models.base.init_chat_model.html\n"
   ]
  },
  {
   "cell_type": "code",
   "execution_count": 3,
   "id": "3aad9b1b-5b16-4b31-9590-24c7debcf2cf",
   "metadata": {},
   "outputs": [
    {
     "data": {
      "text/plain": [
       "True"
      ]
     },
     "execution_count": 3,
     "metadata": {},
     "output_type": "execute_result"
    }
   ],
   "source": [
    "from dotenv import load_dotenv\n",
    "\n",
    "\n",
    "# CHANGE THIS TO POINT TO YOUR OWN FILE\n",
    "# Load the file that contains the API keys \n",
    "load_dotenv('C:\\\\Users\\\\raj\\\\.jupyter\\\\.env')"
   ]
  },
  {
   "cell_type": "markdown",
   "id": "54788503-d758-4eeb-9ee3-a97a76193940",
   "metadata": {},
   "source": [
    "## 1. Setup chat prompt template"
   ]
  },
  {
   "cell_type": "code",
   "execution_count": 30,
   "id": "0b43c53f-bba8-494f-8a8e-3af69a1438ba",
   "metadata": {},
   "outputs": [],
   "source": [
    "from langchain_core.prompts import ChatPromptTemplate\n",
    "from langchain_core.messages import HumanMessage, AIMessage, SystemMessage\n",
    "from langchain.chat_models import init_chat_model\n",
    "\n",
    "messages = [\n",
    "    SystemMessage(content=\"You are a sarcastic comedian\"),\n",
    "    (\"human\",\"Tell me a joke about {topic}\")\n",
    "]\n",
    "\n",
    "message_template = ChatPromptTemplate.from_messages(messages)\n"
   ]
  },
  {
   "cell_type": "markdown",
   "id": "da6bdd1d-6566-4ab6-ac77-bc615ec4bae4",
   "metadata": {},
   "source": [
    "## 2. Setup model"
   ]
  },
  {
   "cell_type": "code",
   "execution_count": 13,
   "id": "c68a4ee6-b5a9-47b0-bb64-94e4e11cc702",
   "metadata": {},
   "outputs": [
    {
     "data": {
      "text/plain": [
       "ChatGroq(client=<groq.resources.chat.completions.Completions object at 0x00000250D02A4CE0>, async_client=<groq.resources.chat.completions.AsyncCompletions object at 0x00000250D03CBC50>, model_name='moonshotai/kimi-k2-instruct', model_kwargs={}, groq_api_key=SecretStr('**********'))"
      ]
     },
     "execution_count": 13,
     "metadata": {},
     "output_type": "execute_result"
    }
   ],
   "source": [
    "# Models to try out\n",
    "# Supported model providers are: google_genai, anthropic, ibm, azure_openai, bedrock, ollama, \n",
    "# fireworks, openai, deepseek, cohere, mistralai, together, xai, bedrock_converse, groq, huggingface, google_anthropic_vertex, \n",
    "# perplexity, google_vertexai, azure_ai\n",
    "# In order to use the models below - YOU MUST HAVE THE API KEY Setup in env file\n",
    "models = [\n",
    "            {\"model\":\"gpt-4o-mini\", \"model_provider\":\"openai\"},\n",
    "            {\"model\":\"claude-3-5-sonnet-latest\", \"model_provider\":\"anthropic\"},\n",
    "            {\"model\":\"command-r\",  \"model_provider\":\"cohere\"},\n",
    "            {\"model\": \"moonshotai/kimi-k2-instruct\", \"model_provider\": \"groq\"},\n",
    "            {\"model\": \"llama-3.3-70b-versatile\", \"model_provider\": \"groq\"}\n",
    "    \n",
    "]\n",
    "chat_llm = init_chat_model(**models[3])\n",
    "                            \n",
    "\n",
    "chat_llm"
   ]
  },
  {
   "cell_type": "markdown",
   "id": "c9dcf115-3698-48eb-afad-508affed8016",
   "metadata": {},
   "source": [
    "## 3. Try out"
   ]
  },
  {
   "cell_type": "code",
   "execution_count": 41,
   "id": "a4ab9738-557f-4431-a17f-aaeab9ca2032",
   "metadata": {},
   "outputs": [
    {
     "name": "stdout",
     "output_type": "stream",
     "text": [
      "==================================\u001b[1m Ai Message \u001b[0m==================================\n",
      "\n",
      "Why did the cat sit on the computer?  \n",
      "\n",
      "Because it found the one spot in the house guaranteed to get more attention than you ever will—and also because the mouse was finally terrified of *it*.\n"
     ]
    }
   ],
   "source": [
    "value = message_template.invoke({\"topic\": \"cat\"})\n",
    "\n",
    "# These are model_specific_parameters\n",
    "kwargs = {} \n",
    "response = chat_llm.invoke(value.messages, temperature=1.0, max_tokens=40, **kwargs)\n",
    "\n",
    "response.pretty_print()"
   ]
  },
  {
   "cell_type": "code",
   "execution_count": null,
   "id": "fdd2e1e7-35ba-4dce-8931-fdd90cec9668",
   "metadata": {},
   "outputs": [],
   "source": []
  }
 ],
 "metadata": {
  "kernelspec": {
   "display_name": "Python 3 (ipykernel)",
   "language": "python",
   "name": "python3"
  },
  "language_info": {
   "codemirror_mode": {
    "name": "ipython",
    "version": 3
   },
   "file_extension": ".py",
   "mimetype": "text/x-python",
   "name": "python",
   "nbconvert_exporter": "python",
   "pygments_lexer": "ipython3",
   "version": "3.12.9"
  }
 },
 "nbformat": 4,
 "nbformat_minor": 5
}
