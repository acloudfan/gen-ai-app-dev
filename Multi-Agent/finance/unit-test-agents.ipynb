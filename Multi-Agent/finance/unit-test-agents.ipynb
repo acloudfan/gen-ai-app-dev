{
 "cells": [
  {
   "cell_type": "markdown",
   "id": "416858dc-9747-43e4-a86e-60347076eecc",
   "metadata": {},
   "source": [
    "# Unit tests for re-usable Finance agents\n",
    "The notebook contains unit tests for testing each of the individual agents.\n",
    "\n",
    "### Note:\n",
    "* Agent code have dependency on tools packages that MUST be deployed.\n",
    "* Select model that support structured output\n",
    "* You may use different models than one listed below\n",
    "* All API keys MUST be provide in the key file : Adjust ```load_dotenv('PATH-to-your-key-file')``` in first cell"
   ]
  },
  {
   "cell_type": "code",
   "execution_count": 1,
   "id": "b0a38dbc-3770-44ca-ac17-07564732cc6b",
   "metadata": {},
   "outputs": [
    {
     "name": "stderr",
     "output_type": "stream",
     "text": [
      "USER_AGENT environment variable not set, consider setting it to identify your requests.\n"
     ]
    }
   ],
   "source": [
    "from dotenv import load_dotenv\n",
    "\n",
    "from langchain_core.messages import HumanMessage\n",
    "from langchain.chat_models import init_chat_model\n",
    "\n",
    "\n",
    "# Agents\n",
    "from stock_research_agent import create_stock_research_agent\n",
    "from industry_research_agent import create_industry_research_agent\n",
    "from stock_trend_analyst import create_stock_trend_analyst_agent\n",
    "\n",
    "\n",
    "\n",
    "# CHANGE THIS TO POINT TO YOUR OWN FILE\n",
    "# Load the file that contains the API keys \n",
    "load_dotenv('C:\\\\Users\\\\raj\\\\.jupyter\\\\.env')\n",
    "\n",
    "models = [\n",
    "            {\"model\":\"gpt-4o-mini\", \"model_provider\":\"openai\"},\n",
    "            {\"model\":\"claude-3-5-sonnet-latest\", \"model_provider\":\"anthropic\"},\n",
    "            {\"model\":\"command-r\",  \"model_provider\":\"cohere\"},\n",
    "            {\"model\": \"moonshotai/kimi-k2-instruct\", \"model_provider\": \"groq\"},\n",
    "            {\"model\": \"llama-3.3-70b-versatile\", \"model_provider\": \"groq\"}\n",
    "    \n",
    "]"
   ]
  },
  {
   "cell_type": "markdown",
   "id": "f929bcd4-0e04-4847-bf6d-046187fd5a25",
   "metadata": {},
   "source": [
    "## 1. Stock news research agent\n",
    "\n",
    "This agent needs a finance news search tool. We will use Yahoo Finance search for this. \n",
    "\n",
    "\n",
    "```pip install --upgrade --quiet  yfinance```\n",
    "\n",
    "```uv add yfinance```\n",
    "\n",
    "https://python.langchain.com/docs/integrations/tools/yahoo_finance_news/\n",
    "\n",
    "https://algotrading101.com/learn/yahoo-finance-api-guide/"
   ]
  },
  {
   "cell_type": "code",
   "execution_count": 2,
   "id": "400085d6-f219-43f5-8eae-c7b8d44db659",
   "metadata": {},
   "outputs": [],
   "source": [
    "# !uv add yfinance"
   ]
  },
  {
   "cell_type": "code",
   "execution_count": 3,
   "id": "ece08a26-11ad-4d24-968e-bbf7eaf621ae",
   "metadata": {},
   "outputs": [],
   "source": [
    "# Create the model - change index to switch models\n",
    "chat_llm = init_chat_model(**models[0])\n"
   ]
  },
  {
   "cell_type": "code",
   "execution_count": 4,
   "id": "88bea8b8-a003-45f2-8feb-c00452a72047",
   "metadata": {},
   "outputs": [
    {
     "data": {
      "image/png": "[encoded data removed]",
      "text/plain": [
       "<langgraph.graph.state.CompiledStateGraph object at 0x000002ECE4797200>"
      ]
     },
     "execution_count": 4,
     "metadata": {},
     "output_type": "execute_result"
    }
   ],
   "source": [
    "# chat_model, name = \"stock-news-research-agent\"\n",
    "agent=create_stock_research_agent(\n",
    "    chat_llm\n",
    ")\n",
    "\n",
    "agent"
   ]
  },
  {
   "cell_type": "code",
   "execution_count": 5,
   "id": "938392aa-e836-418d-91df-2fcfec08e1c0",
   "metadata": {},
   "outputs": [],
   "source": [
    "\n",
    "messages = {\"messages\":[HumanMessage(content=\"AAPL\")]}\n",
    "response  = agent.invoke(messages)"
   ]
  },
  {
   "cell_type": "code",
   "execution_count": 6,
   "id": "daacc3cf-b6c4-4987-a9ce-5f9c4b1114c5",
   "metadata": {},
   "outputs": [
    {
     "name": "stdout",
     "output_type": "stream",
     "text": [
      "### Short Report on Apple Inc. (AAPL)\n",
      "\n",
      "#### Recent News Summary\n",
      "1. **Legal and Tariff Risks:**\n",
      "   - Analysts from Evercore believe that Apple can weather legal and tariff challenges, maintaining a positive outlook with a target price of $250 per share. Despite a year-to-date decline of over 8%, the firm's confidence suggests potential for recovery as strategic uncertainties, particularly around AI, are resolved.\n",
      "\n",
      "2. **AI Strategy and Earnings:**\n",
      "   - Bank of America has reiterated its bullish stance on Apple, highlighting the company's involvement in artificial intelligence and a potential refresh cycle in the PC sector as critical growth drivers. This underscores optimism about Apple's earnings potential amid industry transitions towards AI.\n",
      "\n",
      "#### Impact on Stock Price\n",
      "The overall sentiment from analysts remains bullish toward Apple, which could stabilize or even positively influence the stock price in the near term. The acknowledgment of challenges, particularly around AI strategies, suggests that while the company faces hurdles, strategic initiatives and market dynamics may foster recovery and growth moving forward. \n",
      "\n",
      "Investors may want to monitor developments in Apple's strategic approach to AI and overall market conditions to gauge potential price movement.\n"
     ]
    }
   ],
   "source": [
    "print(response[\"messages\"][-1].content)"
   ]
  },
  {
   "cell_type": "code",
   "execution_count": 7,
   "id": "831fbedd-771e-4956-8e7a-6f76dec8a60e",
   "metadata": {},
   "outputs": [
    {
     "name": "stdout",
     "output_type": "stream",
     "text": [
      "Report\n",
      " -------\n",
      " Apple Inc. (AAPL) is currently facing challenges due to uncertainty surrounding its AI strategy and has seen a year-to-date decline of over 8%. However, analysts from Evercore and Bank of America remain bullish, setting a target price of $250, citing Apple's ability to navigate legal and tariff risks, as well as positive indicators from AI adoption and a forthcoming PC refresh cycle.\n",
      "Confidence score\n",
      " ----------------\n",
      " 0.75\n"
     ]
    }
   ],
   "source": [
    "print(\"Report\\n\",\"-------\\n\", response[\"structured_response\"].report)\n",
    "print(\"Confidence score\\n\",\"----------------\\n\",response[\"structured_response\"].confidence_score)"
   ]
  },
  {
   "cell_type": "markdown",
   "id": "ba584b7e-9ea1-4ae8-9a1a-564f3aaa991d",
   "metadata": {},
   "source": [
    "## 2. Industry news research agent\n",
    "\n",
    "This agent needs a web search tool. Refer to a list of LangChain search tools that you may use. This code shows the use of Tavily. The API key for Tavily (TAVILY_API_KEY) is already in the key file. \n",
    "\n",
    "```uv add langchain-tavily```\n",
    "\n",
    "```%pip install -qU langchain-tavily```\n",
    "\n",
    "[LangChain Tavily integration](https://python.langchain.com/docs/integrations/tools/tavily_search/)\n",
    "\n",
    "[LangChain web search tools](https://python.langchain.com/docs/integrations/tools/#search)\n",
    "\n",
    "This agent needs a web search tool. Refer to a list of LangChain search tools that you may use. This code shows the use of Tavily. The API key for Tavily (TAVILY_API_KEY) is already in the key file. "
   ]
  },
  {
   "cell_type": "code",
   "execution_count": 8,
   "id": "757230d3-f0dd-4c4c-9193-7130e74f20ac",
   "metadata": {},
   "outputs": [],
   "source": [
    "# Create the model - change index to switch models\n",
    "chat_llm = init_chat_model(**models[0])\n"
   ]
  },
  {
   "cell_type": "code",
   "execution_count": 9,
   "id": "31c27cb2-32ac-4ceb-9c2f-d84def17bc03",
   "metadata": {},
   "outputs": [],
   "source": [
    "# chat_model, name = \"stock-news-research-agent\"\n",
    "industry_research_agent=create_industry_research_agent(\n",
    "    chat_llm\n",
    ")"
   ]
  },
  {
   "cell_type": "code",
   "execution_count": 10,
   "id": "9820f844-deeb-4c67-b298-43b7c2d899d5",
   "metadata": {},
   "outputs": [],
   "source": [
    "messages = {\"messages\":[HumanMessage(content=\"AAPL\")]}\n",
    "response  = industry_research_agent.invoke(messages)"
   ]
  },
  {
   "cell_type": "code",
   "execution_count": 11,
   "id": "0432ab10-2334-4f38-828e-99b74546e5a9",
   "metadata": {},
   "outputs": [
    {
     "name": "stdout",
     "output_type": "stream",
     "text": [
      "Apple Inc. (Ticker: AAPL) operates in the technology sector, primarily focusing on consumer electronics, software, and online services.\n",
      "\n",
      "### Recent Developments Impacting AAPL\n",
      "1. **Strong Financial Performance**: Apple reported its Q3 revenue, which surpassed market estimates by nearly $5 billion, driven by robust iPhone sales. This positive performance has led to a slight increase in the stock price during post-market trading ([Seeking Alpha](https://seekingalpha.com/news/4475886-apple-q3-revenue-crushes-estimates-by-nearly-5b-shares-edge-higher)).\n",
      "\n",
      "2. **Market Outlook**: Analysts remain optimistic about Apple's future earnings potential. However, concerns exist regarding external factors like AI implementation and tariffs, which might hinder stock performance in the short term ([TipRanks](https://www.tipranks.com/news/dont-expect-apple-stock-aapl-to-pop-until-ai-and-tariff-uncertainty-ease-say-analysts)).\n",
      "\n",
      "3. **Ongoing Legal Issues**: Apple is currently facing a lawsuit for fraud, which may create some uncertainty for investors ([Newsfile](https://www.newsfilecorp.com/release/259847/AAPL-STOCK-NOTICE-Apple-Inc.-Investors-are-Notified-the-Company-is-being-Sued-for-Fraud-and-to-Contact-BFA-Law-by-August-19)).\n",
      "\n",
      "4. **Sales Trends**: The strong performance in iPhone sales has been particularly noted in Greater China despite delays in the rollout of AI features ([Reuters](https://www.reuters.com/world/asia-pacific/apple-revenue-forecast-beats-estimates-iphone-sales-soar-2025-07-31/)).\n",
      "\n",
      "### Conclusion\n",
      "The overall sentiment towards Apple (AAPL) remains mixed but cautiously optimistic due to its strong earnings report and robust product sales. However, legal challenges and external economic factors may exert downward pressure on the stock in the near future. Investors should keep an eye on upcoming news related to the legal issues and any shifts in tariff policies that could affect the stock's performance.\n"
     ]
    }
   ],
   "source": [
    "print(response[\"messages\"][-1].content)"
   ]
  },
  {
   "cell_type": "code",
   "execution_count": 12,
   "id": "794e0e2b-df98-41b4-9a45-25faa12b2377",
   "metadata": {},
   "outputs": [
    {
     "name": "stdout",
     "output_type": "stream",
     "text": [
      "Report\n",
      " -------\n",
      " Apple Inc. (AAPL) is experiencing a positive momentum following its recent Q3 earnings report, which exceeded expectations significantly, primarily due to strong iPhone sales. However, there is cautious sentiment in the market due to ongoing legal issues and uncertainties regarding tariffs and AI implementation that may influence stock performance in the near future.\n",
      "Confidence score\n",
      " ----------------\n",
      " 0.7\n"
     ]
    }
   ],
   "source": [
    "print(\"Report\\n\",\"-------\\n\", response[\"structured_response\"].report)\n",
    "print(\"Confidence score\\n\",\"----------------\\n\",response[\"structured_response\"].confidence_score)"
   ]
  },
  {
   "cell_type": "markdown",
   "id": "119ec544-3dad-4dda-a82f-ba1761b2102d",
   "metadata": {},
   "source": [
    "## 3. Stock trend analyst agent\n"
   ]
  },
  {
   "cell_type": "code",
   "execution_count": 13,
   "id": "6fb70faf-e898-409d-b5a7-6b11027e5b1e",
   "metadata": {},
   "outputs": [],
   "source": [
    "# Create the model - change index to switch models\n",
    "chat_llm = init_chat_model(**models[0])\n",
    "\n",
    "trends_agent = create_stock_trend_analyst_agent(chat_llm) \n"
   ]
  },
  {
   "cell_type": "code",
   "execution_count": 14,
   "id": "9e3cfa8c-e945-4134-869a-510b94dc6584",
   "metadata": {},
   "outputs": [],
   "source": [
    "messages = {\"messages\":[HumanMessage(content=\"AAPL\")]}\n",
    "response  = trends_agent.invoke(messages)"
   ]
  },
  {
   "cell_type": "code",
   "execution_count": 15,
   "id": "3414a6d0-7ad9-41ba-b37a-4373d123364b",
   "metadata": {},
   "outputs": [
    {
     "name": "stdout",
     "output_type": "stream",
     "text": [
      "I have gathered the historical stock data for Apple Inc. (AAPL). Here are some key insights that can help predict the near future stock price trend:\n",
      "\n",
      "1. **Recent Closing Prices**:\n",
      "   - The closing prices for the last few days were:\n",
      "     - August 15, 2025: $231.59\n",
      "     - August 14, 2025: $232.78\n",
      "     - August 13, 2025: $233.33\n",
      "     - August 12, 2025: $229.65\n",
      "     - August 11, 2025: $227.18\n",
      "\n",
      "2. **Trend Analysis**:\n",
      "   - The closing prices have shown slight fluctuations, with prices generally hovering around the $230 mark.\n",
      "   - The most recent closing price on August 15 was lower than that on August 14 but higher than August 12, indicating a short-term trend of variability but not a significant downward trend.\n",
      "\n",
      "3. **Volume Analysis**:\n",
      "   - The trading volumes show moderate activity, which is a good indicator of liquidity.\n",
      "\n",
      "Based on this brief analysis, the stock price for AAPL might experience slight fluctuations in the near future, but there is no strong indication of a dramatic increase or decrease at this time. It's likely to stay relatively stable, barring any significant market news or events.\n",
      "\n",
      "Would you like to analyze any specific timeframe or any other stocks?\n"
     ]
    }
   ],
   "source": [
    "print(response[\"messages\"][-1].content)"
   ]
  },
  {
   "cell_type": "code",
   "execution_count": 16,
   "id": "40cabfbe-3bec-42f1-b21c-b2bf47dc8b43",
   "metadata": {},
   "outputs": [
    {
     "name": "stdout",
     "output_type": "stream",
     "text": [
      "Report\n",
      " -------\n",
      " Apple Inc. (AAPL) has shown resilience and a general upward trend over the long term, with recent fluctuations indicating a period of consolidation rather than a decline. Given its strong fundamentals, consistent financial performance, and brand loyalty, the outlook remains positive for continued growth in the mid to long term.\n",
      "Confidence score\n",
      " ----------------\n",
      " 0.8\n"
     ]
    }
   ],
   "source": [
    "print(\"Report\\n\",\"-------\\n\", response[\"structured_response\"].analysis)\n",
    "print(\"Confidence score\\n\",\"----------------\\n\",response[\"structured_response\"].confidence_score)"
   ]
  },
  {
   "cell_type": "code",
   "execution_count": null,
   "id": "04aff52c-9954-478f-b4d4-64955566bbfa",
   "metadata": {},
   "outputs": [],
   "source": []
  }
 ],
 "metadata": {
  "kernelspec": {
   "display_name": "Python 3 (ipykernel)",
   "language": "python",
   "name": "python3"
  },
  "language_info": {
   "codemirror_mode": {
    "name": "ipython",
    "version": 3
   },
   "file_extension": ".py",
   "mimetype": "text/x-python",
   "name": "python",
   "nbconvert_exporter": "python",
   "pygments_lexer": "ipython3",
   "version": "3.12.9"
  }
 },
 "nbformat": 4,
 "nbformat_minor": 5
}
