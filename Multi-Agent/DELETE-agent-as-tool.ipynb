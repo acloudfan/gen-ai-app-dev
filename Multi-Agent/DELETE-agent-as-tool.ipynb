{
 "cells": [
  {
   "cell_type": "markdown",
   "id": "06a80910-018f-49fe-b482-93bf06e98310",
   "metadata": {},
   "source": [
    "# Agent as a tool\n",
    "\n",
    "An architectural pattern that uses specialized agent(s) as tools."
   ]
  },
  {
   "cell_type": "code",
   "execution_count": 17,
   "id": "6daf5d82-685b-47d4-a94a-93c565b37d65",
   "metadata": {},
   "outputs": [],
   "source": [
    "from dotenv import load_dotenv\n",
    "\n",
    "from pydantic import BaseModel, Field\n",
    "\n",
    "from langchain_core.messages import HumanMessage\n",
    "from langchain.chat_models import init_chat_model\n",
    "\n",
    "# from langgraph.graph import StateGraph, START, END, MessagesState\n",
    "from langgraph.prebuilt import create_react_agent\n",
    "\n",
    "# CHANGE THIS TO POINT TO YOUR OWN FILE\n",
    "# Load the file that contains the API keys \n",
    "load_dotenv('C:\\\\Users\\\\raj\\\\.jupyter\\\\.env')\n",
    "\n",
    "models = [\n",
    "            {\"model\":\"gpt-4o-mini\", \"model_provider\":\"openai\"},\n",
    "            {\"model\":\"claude-3-5-sonnet-latest\", \"model_provider\":\"anthropic\"},\n",
    "            {\"model\":\"command-r\",  \"model_provider\":\"cohere\"},\n",
    "            {\"model\": \"moonshotai/kimi-k2-instruct\", \"model_provider\": \"groq\"},\n",
    "            {\"model\": \"llama-3.3-70b-versatile\", \"model_provider\": \"groq\"}\n",
    "]"
   ]
  },
  {
   "cell_type": "code",
   "execution_count": 18,
   "id": "9f235cbd-afe3-4de0-9e15-fc4ac10d6047",
   "metadata": {},
   "outputs": [],
   "source": [
    "# Agents\n",
    "\n",
    "import finance.stock_research_agent as stock_research\n",
    "import finance.industry_research_agent as industry_research\n",
    "import finance.stock_trend_analyst as trend_analysis\n",
    "\n"
   ]
  },
  {
   "cell_type": "markdown",
   "id": "d1b55c0a-93f8-4941-9a05-5773e536d237",
   "metadata": {},
   "source": [
    "## Wrap the financial agents into tools"
   ]
  },
  {
   "cell_type": "code",
   "execution_count": 19,
   "id": "844b81a4-e080-4204-aa7f-6426360a857c",
   "metadata": {},
   "outputs": [],
   "source": [
    "# @tool\n",
    "# def stock_research_tool(state):\n",
    "#     # response  = \n",
    "#     return {messages: response[structured output][-1]}"
   ]
  },
  {
   "cell_type": "code",
   "execution_count": 20,
   "id": "5082b97a-4e4c-4524-9d00-c309b2776423",
   "metadata": {},
   "outputs": [],
   "source": [
    "chat_llm = init_chat_model(**models[0])\n",
    "stock_research_tool = stock_research.create_stock_research_agent(chat_llm)\n",
    "industry_research_tool = industry_research.create_industry_research_agent(chat_llm)\n",
    "stock_trend_analyst_agent = trend_analysis.create_stock_trend_analyst_agent(chat_llm)\n"
   ]
  },
  {
   "cell_type": "code",
   "execution_count": 22,
   "id": "9d6bcb3d-d091-418d-996e-448c90f18850",
   "metadata": {},
   "outputs": [
    {
     "ename": "ValueError",
     "evalue": "The first argument must be a string or a callable with a __name__ for tool decorator. Got <class 'langgraph.graph.state.CompiledStateGraph'>",
     "output_type": "error",
     "traceback": [
      "\u001b[31m---------------------------------------------------------------------------\u001b[39m",
      "\u001b[31mValueError\u001b[39m                                Traceback (most recent call last)",
      "\u001b[36mCell\u001b[39m\u001b[36m \u001b[39m\u001b[32mIn[22]\u001b[39m\u001b[32m, line 7\u001b[39m\n\u001b[32m      1\u001b[39m prompt = \u001b[33m\"\"\"\u001b[39m\n\u001b[32m      2\u001b[39m \u001b[33m                You are a financial expert who works with stock traders.\u001b[39m\n\u001b[32m      3\u001b[39m \u001b[33m                The traders ask you to generate different types of fiancial reports.\u001b[39m\n\u001b[32m      4\u001b[39m \u001b[33m                Your job is to generate these reports using available tools.\u001b[39m\n\u001b[32m      5\u001b[39m \u001b[33m\"\"\"\u001b[39m\n\u001b[32m----> \u001b[39m\u001b[32m7\u001b[39m agent = \u001b[43mcreate_react_agent\u001b[49m\u001b[43m(\u001b[49m\n\u001b[32m      8\u001b[39m \u001b[43m    \u001b[49m\u001b[43mmodel\u001b[49m\u001b[43m \u001b[49m\u001b[43m=\u001b[49m\u001b[43m \u001b[49m\u001b[43mchat_llm\u001b[49m\u001b[43m,\u001b[49m\n\u001b[32m      9\u001b[39m \u001b[43m    \u001b[49m\u001b[43mprompt\u001b[49m\u001b[43m \u001b[49m\u001b[43m=\u001b[49m\u001b[43m \u001b[49m\u001b[43mprompt\u001b[49m\u001b[43m,\u001b[49m\n\u001b[32m     10\u001b[39m \u001b[43m    \u001b[49m\u001b[43mtools\u001b[49m\u001b[43m \u001b[49m\u001b[43m=\u001b[49m\u001b[43m \u001b[49m\u001b[43m[\u001b[49m\u001b[43mstock_research_tool\u001b[49m\u001b[43m,\u001b[49m\u001b[43m \u001b[49m\u001b[43mindustry_research_tool\u001b[49m\u001b[43m,\u001b[49m\u001b[43m \u001b[49m\u001b[43mstock_trend_analyst_agent\u001b[49m\u001b[43m]\u001b[49m\n\u001b[32m     11\u001b[39m \u001b[43m)\u001b[49m\n",
      "\u001b[36mFile \u001b[39m\u001b[32m~\\OneDrive\\Documents\\Courses\\Generative-AI\\workspace\\gen-ai-app-dev\\.venv\\Lib\\site-packages\\langgraph\\prebuilt\\chat_agent_executor.py:432\u001b[39m, in \u001b[36mcreate_react_agent\u001b[39m\u001b[34m(model, tools, prompt, response_format, pre_model_hook, post_model_hook, state_schema, config_schema, checkpointer, store, interrupt_before, interrupt_after, debug, version, name)\u001b[39m\n\u001b[32m    430\u001b[39m \u001b[38;5;28;01melse\u001b[39;00m:\n\u001b[32m    431\u001b[39m     llm_builtin_tools = [t \u001b[38;5;28;01mfor\u001b[39;00m t \u001b[38;5;129;01min\u001b[39;00m tools \u001b[38;5;28;01mif\u001b[39;00m \u001b[38;5;28misinstance\u001b[39m(t, \u001b[38;5;28mdict\u001b[39m)]\n\u001b[32m--> \u001b[39m\u001b[32m432\u001b[39m     tool_node = \u001b[43mToolNode\u001b[49m\u001b[43m(\u001b[49m\u001b[43m[\u001b[49m\u001b[43mt\u001b[49m\u001b[43m \u001b[49m\u001b[38;5;28;43;01mfor\u001b[39;49;00m\u001b[43m \u001b[49m\u001b[43mt\u001b[49m\u001b[43m \u001b[49m\u001b[38;5;129;43;01min\u001b[39;49;00m\u001b[43m \u001b[49m\u001b[43mtools\u001b[49m\u001b[43m \u001b[49m\u001b[38;5;28;43;01mif\u001b[39;49;00m\u001b[43m \u001b[49m\u001b[38;5;129;43;01mnot\u001b[39;49;00m\u001b[43m \u001b[49m\u001b[38;5;28;43misinstance\u001b[39;49m\u001b[43m(\u001b[49m\u001b[43mt\u001b[49m\u001b[43m,\u001b[49m\u001b[43m \u001b[49m\u001b[38;5;28;43mdict\u001b[39;49m\u001b[43m)\u001b[49m\u001b[43m]\u001b[49m\u001b[43m)\u001b[49m\n\u001b[32m    433\u001b[39m     tool_classes = \u001b[38;5;28mlist\u001b[39m(tool_node.tools_by_name.values())\n\u001b[32m    435\u001b[39m \u001b[38;5;28;01mif\u001b[39;00m \u001b[38;5;28misinstance\u001b[39m(model, \u001b[38;5;28mstr\u001b[39m):\n",
      "\u001b[36mFile \u001b[39m\u001b[32m~\\OneDrive\\Documents\\Courses\\Generative-AI\\workspace\\gen-ai-app-dev\\.venv\\Lib\\site-packages\\langgraph\\prebuilt\\tool_node.py:221\u001b[39m, in \u001b[36mToolNode.__init__\u001b[39m\u001b[34m(self, tools, name, tags, handle_tool_errors, messages_key)\u001b[39m\n\u001b[32m    219\u001b[39m \u001b[38;5;28;01mfor\u001b[39;00m tool_ \u001b[38;5;129;01min\u001b[39;00m tools:\n\u001b[32m    220\u001b[39m     \u001b[38;5;28;01mif\u001b[39;00m \u001b[38;5;129;01mnot\u001b[39;00m \u001b[38;5;28misinstance\u001b[39m(tool_, BaseTool):\n\u001b[32m--> \u001b[39m\u001b[32m221\u001b[39m         tool_ = \u001b[43mcreate_tool\u001b[49m\u001b[43m(\u001b[49m\u001b[43mtool_\u001b[49m\u001b[43m)\u001b[49m\n\u001b[32m    222\u001b[39m     \u001b[38;5;28mself\u001b[39m.tools_by_name[tool_.name] = tool_\n\u001b[32m    223\u001b[39m     \u001b[38;5;28mself\u001b[39m.tool_to_state_args[tool_.name] = _get_state_args(tool_)\n",
      "\u001b[36mFile \u001b[39m\u001b[32m~\\OneDrive\\Documents\\Courses\\Generative-AI\\workspace\\gen-ai-app-dev\\.venv\\Lib\\site-packages\\langchain_core\\tools\\convert.py:338\u001b[39m, in \u001b[36mtool\u001b[39m\u001b[34m(name_or_callable, runnable, description, return_direct, args_schema, infer_schema, response_format, parse_docstring, error_on_invalid_docstring, *args)\u001b[39m\n\u001b[32m    333\u001b[39m         \u001b[38;5;28;01mreturn\u001b[39;00m _create_tool_factory(name_or_callable)\n\u001b[32m    334\u001b[39m     msg = (\n\u001b[32m    335\u001b[39m         \u001b[33mf\u001b[39m\u001b[33m\"\u001b[39m\u001b[33mThe first argument must be a string or a callable with a __name__ \u001b[39m\u001b[33m\"\u001b[39m\n\u001b[32m    336\u001b[39m         \u001b[33mf\u001b[39m\u001b[33m\"\u001b[39m\u001b[33mfor tool decorator. Got \u001b[39m\u001b[38;5;132;01m{\u001b[39;00m\u001b[38;5;28mtype\u001b[39m(name_or_callable)\u001b[38;5;132;01m}\u001b[39;00m\u001b[33m\"\u001b[39m\n\u001b[32m    337\u001b[39m     )\n\u001b[32m--> \u001b[39m\u001b[32m338\u001b[39m     \u001b[38;5;28;01mraise\u001b[39;00m \u001b[38;5;167;01mValueError\u001b[39;00m(msg)\n\u001b[32m    340\u001b[39m \u001b[38;5;66;03m# Tool is used as a decorator with parameters specified\u001b[39;00m\n\u001b[32m    341\u001b[39m \u001b[38;5;66;03m# @tool(parse_docstring=True)\u001b[39;00m\n\u001b[32m    342\u001b[39m \u001b[38;5;66;03m# def my_tool():\u001b[39;00m\n\u001b[32m    343\u001b[39m \u001b[38;5;66;03m#    pass\u001b[39;00m\n\u001b[32m    344\u001b[39m \u001b[38;5;28;01mdef\u001b[39;00m\u001b[38;5;250m \u001b[39m\u001b[34m_partial\u001b[39m(func: Union[Callable, Runnable]) -> BaseTool:\n",
      "\u001b[31mValueError\u001b[39m: The first argument must be a string or a callable with a __name__ for tool decorator. Got <class 'langgraph.graph.state.CompiledStateGraph'>"
     ]
    }
   ],
   "source": [
    "prompt = \"\"\"\n",
    "                You are a financial expert who works with stock traders.\n",
    "                The traders ask you to generate different types of fiancial reports.\n",
    "                Your job is to generate these reports using available tools.\n",
    "\"\"\"\n",
    "\n",
    "agent = create_react_agent(\n",
    "    model = chat_llm,\n",
    "    prompt = prompt,\n",
    "    tools = [stock_research_tool, industry_research_tool, stock_trend_analyst_agent]\n",
    ")"
   ]
  },
  {
   "cell_type": "code",
   "execution_count": null,
   "id": "1191b674-2c3e-4ca1-a4bd-ecaa4d04c33a",
   "metadata": {},
   "outputs": [],
   "source": []
  }
 ],
 "metadata": {
  "kernelspec": {
   "display_name": "Python 3 (ipykernel)",
   "language": "python",
   "name": "python3"
  },
  "language_info": {
   "codemirror_mode": {
    "name": "ipython",
    "version": 3
   },
   "file_extension": ".py",
   "mimetype": "text/x-python",
   "name": "python",
   "nbconvert_exporter": "python",
   "pygments_lexer": "ipython3",
   "version": "3.12.9"
  }
 },
 "nbformat": 4,
 "nbformat_minor": 5
}
