{
 "cells": [
  {
   "cell_type": "markdown",
   "id": "3f2319c5-d101-487b-b65d-7a99c549d596",
   "metadata": {},
   "source": [
    "# Basic tool calling agent from scratch\n",
    "\n",
    "### Requirement\n",
    "Create a Q&A agent that can use tools for answering questions.\n",
    "\n",
    "\n",
    "https://python.langchain.com/docs/how_to/tool_calling/"
   ]
  },
  {
   "cell_type": "code",
   "execution_count": 1,
   "id": "b722cfc8-d230-442f-8f1f-454899589e75",
   "metadata": {},
   "outputs": [
    {
     "data": {
      "text/plain": [
       "True"
      ]
     },
     "execution_count": 1,
     "metadata": {},
     "output_type": "execute_result"
    }
   ],
   "source": [
    "from dotenv import load_dotenv\n",
    "\n",
    "\n",
    "# CHANGE THIS TO POINT TO YOUR OWN FILE\n",
    "# Load the file that contains the API keys \n",
    "load_dotenv('C:\\\\Users\\\\raj\\\\.jupyter\\\\.env')\n",
    "\n"
   ]
  },
  {
   "cell_type": "markdown",
   "id": "1c5d1021-01d0-4db9-ab89-044822fec5ab",
   "metadata": {},
   "source": [
    "## 1. Create an instance of chat model\n",
    "\n",
    "### Create a chat LLM\n",
    "https://python.langchain.com/api_reference/langchain/chat_models/langchain.chat_models.base.init_chat_model.html\n",
    "\n"
   ]
  },
  {
   "cell_type": "code",
   "execution_count": 2,
   "id": "bbe4073e-9e4b-493f-bfd1-12da0d1b5b65",
   "metadata": {},
   "outputs": [
    {
     "data": {
      "text/plain": [
       "ChatGroq(client=<groq.resources.chat.completions.Completions object at 0x000001F5988671D0>, async_client=<groq.resources.chat.completions.AsyncCompletions object at 0x000001F598B20980>, model_name='moonshotai/kimi-k2-instruct', model_kwargs={}, groq_api_key=SecretStr('**********'))"
      ]
     },
     "execution_count": 2,
     "metadata": {},
     "output_type": "execute_result"
    }
   ],
   "source": [
    "from langchain.chat_models import init_chat_model\n",
    "\n",
    "# Models to try out\n",
    "# Supported model providers are: google_genai, anthropic, ibm, azure_openai, bedrock, ollama, \n",
    "# fireworks, openai, deepseek, cohere, mistralai, together, xai, bedrock_converse, groq, huggingface, google_anthropic_vertex, \n",
    "# perplexity, google_vertexai, azure_ai\n",
    "models = [\n",
    "            {\"model\":\"gpt-4o-mini\", \"model_provider\":\"openai\"},\n",
    "            {\"model\":\"claude-3-5-sonnet-latest\", \"model_provider\":\"anthropic\"},\n",
    "            {\"model\":\"command-r\",  \"model_provider\":\"cohere\"},\n",
    "            {\"model\": \"moonshotai/kimi-k2-instruct\", \"model_provider\": \"groq\"},\n",
    "            {\"model\": \"llama-3.3-70b-versatile\", \"model_provider\": \"groq\"}\n",
    "    \n",
    "]\n",
    "chat_llm = init_chat_model(**models[3])\n",
    "                            \n",
    "\n",
    "chat_llm"
   ]
  },
  {
   "cell_type": "markdown",
   "id": "3a70bf47-e6c7-4ff3-87f2-db653ffafdfb",
   "metadata": {},
   "source": [
    "## 2. Define the tools\n",
    "\n",
    "##### 1. Setup tool functions\n",
    "\n",
    "##### 2. Bind LLM to tools\n",
    "https://python.langchain.com/docs/concepts/tool_calling/\n",
    "\n",
    "##### 3. Define a tool node"
   ]
  },
  {
   "cell_type": "code",
   "execution_count": 3,
   "id": "7de92677-6de2-4e67-8273-a61aa7d684bf",
   "metadata": {},
   "outputs": [],
   "source": [
    "from typing import TypedDict, List\n",
    "from langchain_core.tools import tool\n",
    "from langgraph.graph import StateGraph, START, END, MessagesState\n",
    "from langgraph.prebuilt import ToolNode\n",
    "from langchain_core.messages import HumanMessage, AIMessage, ToolMessage, SystemMessage\n",
    "from IPython.display import Image, display\n",
    "\n",
    "\n",
    "@tool\n",
    "def multiply(number_1: int, number_2: int) -> int:\n",
    "    \"\"\"Multiply two numbers.\"\"\"\n",
    "    return number_1 * number_2\n",
    "\n",
    "@tool\n",
    "def add(number_1: int, number_2: int) -> int:\n",
    "    \"\"\"Add two numbers.\"\"\"\n",
    "    return number_1 + number_2\n",
    "\n",
    "@tool\n",
    "def subtract(number_1: int, number_2: int) -> int:\n",
    "    \"\"\"Subtract two numbers.\"\"\"\n",
    "    return number_1 - number_2\n",
    "\n",
    "# Bind the tools to LLM i.e., make LLM aware of the available tools\n",
    "chat_llm_with_tool = chat_llm.bind_tools([add, subtract, multiply])\n",
    "\n",
    "# Create an instance of tool node\n",
    "tool_node = ToolNode(\n",
    "    name = \"math_tools\",\n",
    "    tools = [multiply,add,subtract]\n",
    ")\n",
    "\n",
    "# chat_llm_with_tool"
   ]
  },
  {
   "cell_type": "code",
   "execution_count": 4,
   "id": "2843d0a3-e83c-4dda-8a4f-621e366862e0",
   "metadata": {},
   "outputs": [],
   "source": [
    "# Units testing\n",
    "\n",
    "# input_state = {\"messages\": [HumanMessage(content=\"what is 3*2 and 5+2\")]}\n",
    "# response=chat_llm_with_tool.invoke(input_state[\"messages\"])\n",
    "# response"
   ]
  },
  {
   "cell_type": "markdown",
   "id": "89fd0742-2d0f-45f5-98d6-e063a6c1ecd1",
   "metadata": {},
   "source": [
    "## 3. Create the agent node"
   ]
  },
  {
   "cell_type": "code",
   "execution_count": 5,
   "id": "51b765ef-3443-4639-b720-aa5caee0d5f0",
   "metadata": {},
   "outputs": [],
   "source": [
    "# agent simply calls the LLM with messages\n",
    "def  agent_node(state : MessagesState):\n",
    "     messages = state[\"messages\"]\n",
    "     response = chat_llm_with_tool.invoke(messages)\n",
    "     return {\"messages\": response}"
   ]
  },
  {
   "cell_type": "markdown",
   "id": "789d10df-0b44-4f65-8ad8-7e7fa0153def",
   "metadata": {},
   "source": [
    "## 4. Setup the graph"
   ]
  },
  {
   "cell_type": "code",
   "execution_count": 6,
   "id": "925676a8-9679-44fe-9477-44c0f1ef6028",
   "metadata": {},
   "outputs": [
    {
     "data": {
      "image/png": "[encoded data removed]",
      "text/plain": [
       "<IPython.core.display.Image object>"
      ]
     },
     "metadata": {},
     "output_type": "display_data"
    }
   ],
   "source": [
    "# State consist of the message list : HumanMessage, AIMessage, ToolMessage\n",
    "agent_workflow = StateGraph(MessagesState)\n",
    "\n",
    "# Add the nodes\n",
    "agent_workflow.add_node(\"agent\", agent_node)\n",
    "agent_workflow.add_node(\"math_tools\", tool_node)\n",
    "agent_workflow.add_edge(START, \"agent\")\n",
    "\n",
    "# Conditional edge : checks if the last message has tool calls then call the tools_node otherwise end\n",
    "def  call_router(state):\n",
    "     # Last message in the list\n",
    "     last_message = state[\"messages\"][-1]\n",
    "\n",
    "     # If the last message is AIMessage & there is a request by AI to invoke tools route to tools_node\n",
    "     if type(last_message)==AIMessage and len(last_message.tool_calls) > 0 : \n",
    "         print(\"router: tools\")\n",
    "         return \"tools_node\"\n",
    "     else:\n",
    "         print(\"router: end\")\n",
    "         return \"end\"\n",
    "        \n",
    "agent_workflow.add_conditional_edges(\"agent\", call_router , {\"end\": END, \"tools_node\": \"math_tools\"})\n",
    "\n",
    "# Tools node sends the control back to the agent; agent sends the tool results to LLM for final response\n",
    "agent_workflow.add_edge(\"math_tools\", \"agent\")\n",
    "\n",
    "# Compile the workflow\n",
    "agent_workflow_compiled = agent_workflow.compile()\n",
    "\n",
    "# Display\n",
    "display(Image(agent_workflow_compiled.get_graph().draw_mermaid_png()))"
   ]
  },
  {
   "cell_type": "code",
   "execution_count": 7,
   "id": "9a934d59-f7a3-4e5c-aaa4-ae8d07268b2d",
   "metadata": {},
   "outputs": [
    {
     "name": "stdout",
     "output_type": "stream",
     "text": [
      "router: tools\n",
      "router: tools\n",
      "router: tools\n",
      "router: end\n"
     ]
    },
    {
     "data": {
      "text/plain": [
       "'The final result is **70**.'"
      ]
     },
     "execution_count": 7,
     "metadata": {},
     "output_type": "execute_result"
    }
   ],
   "source": [
    "# Tests\n",
    "input_state = {\"messages\": [HumanMessage(content=\"Calculate 5 * 3 and 20+65 then subtract the result of 5*3 from the other result\")]}\n",
    "\n",
    "# input_state = {\"messages\": [HumanMessage(content=\"calculate (9*2)*3+4-11\")]}\n",
    "\n",
    "# Invoke\n",
    "response = agent_workflow_compiled.invoke(input_state)\n",
    "\n",
    "response[\"messages\"][-1].content"
   ]
  },
  {
   "cell_type": "code",
   "execution_count": null,
   "id": "b5010771-9d86-494a-a111-14ebe3e6aadc",
   "metadata": {},
   "outputs": [],
   "source": []
  }
 ],
 "metadata": {
  "kernelspec": {
   "display_name": "Python 3 (ipykernel)",
   "language": "python",
   "name": "python3"
  },
  "language_info": {
   "codemirror_mode": {
    "name": "ipython",
    "version": 3
   },
   "file_extension": ".py",
   "mimetype": "text/x-python",
   "name": "python",
   "nbconvert_exporter": "python",
   "pygments_lexer": "ipython3",
   "version": "3.12.9"
  }
 },
 "nbformat": 4,
 "nbformat_minor": 5
}
