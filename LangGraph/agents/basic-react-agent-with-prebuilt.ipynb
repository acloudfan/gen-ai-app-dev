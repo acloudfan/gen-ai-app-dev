{
 "cells": [
  {
   "cell_type": "markdown",
   "id": "cf2ac1ac-f31d-4e54-98b3-b9cd24038099",
   "metadata": {},
   "source": [
    "# Basic tool calling agent with pre-built\n",
    "\n",
    "### create_react_agent\n",
    "https://python.langchain.com/api_reference/langchain/agents/langchain.agents.react.agent.create_react_agent.html\n",
    "\n",
    "https://langchain-ai.github.io/langgraph/agents/overview/\n",
    "\n",
    "https://langchain-ai.github.io/langgraph/agents/agents/#prerequisites\n",
    "\n",
    "### Note\n",
    "Install the package \n",
    "\n",
    "```!uv add langgraph-prebuilt```\n",
    "\n",
    "```!uv pip install langgraph-prebuilt```"
   ]
  },
  {
   "cell_type": "code",
   "execution_count": 1,
   "id": "7a33bc79-2f3d-407b-bdf2-f86ac4659c1c",
   "metadata": {},
   "outputs": [
    {
     "data": {
      "text/plain": [
       "True"
      ]
     },
     "execution_count": 1,
     "metadata": {},
     "output_type": "execute_result"
    }
   ],
   "source": [
    "from dotenv import load_dotenv\n",
    "\n",
    "\n",
    "# CHANGE THIS TO POINT TO YOUR OWN FILE\n",
    "# Load the file that contains the API keys \n",
    "load_dotenv('C:\\\\Users\\\\raj\\\\.jupyter\\\\.env')\n"
   ]
  },
  {
   "cell_type": "markdown",
   "id": "2efc4a61-e908-4b66-98b8-f5ba53981087",
   "metadata": {},
   "source": [
    "## 1. Create an instance of chat model\n",
    "\n",
    "### Create a chat LLM\n",
    "https://python.langchain.com/api_reference/langchain/chat_models/langchain.chat_models.base.init_chat_model.html\n",
    "\n"
   ]
  },
  {
   "cell_type": "code",
   "execution_count": 2,
   "id": "a3cb3406-fbca-4499-a227-a3d331e74689",
   "metadata": {},
   "outputs": [
    {
     "data": {
      "text/plain": [
       "ChatOpenAI(client=<openai.resources.chat.completions.completions.Completions object at 0x00000247C464BC50>, async_client=<openai.resources.chat.completions.completions.AsyncCompletions object at 0x00000247C4B41580>, root_client=<openai.OpenAI object at 0x00000247C34D7F80>, root_async_client=<openai.AsyncOpenAI object at 0x00000247C499EBD0>, model_name='gpt-4o-mini', model_kwargs={}, openai_api_key=SecretStr('**********'))"
      ]
     },
     "execution_count": 2,
     "metadata": {},
     "output_type": "execute_result"
    }
   ],
   "source": [
    "from langchain.chat_models import init_chat_model\n",
    "\n",
    "# Models to try out\n",
    "# Supported model providers are: google_genai, anthropic, ibm, azure_openai, bedrock, ollama, \n",
    "# fireworks, openai, deepseek, cohere, mistralai, together, xai, bedrock_converse, groq, huggingface, google_anthropic_vertex, \n",
    "# perplexity, google_vertexai, azure_ai\n",
    "models = [\n",
    "            {\"model\":\"gpt-4o-mini\", \"model_provider\":\"openai\"},\n",
    "            {\"model\":\"claude-3-5-sonnet-latest\", \"model_provider\":\"anthropic\"},\n",
    "            {\"model\":\"command-r\",  \"model_provider\":\"cohere\"},\n",
    "            {\"model\": \"moonshotai/kimi-k2-instruct\", \"model_provider\": \"groq\"},\n",
    "            {\"model\": \"llama-3.3-70b-versatile\", \"model_provider\": \"groq\"}\n",
    "    \n",
    "]\n",
    "chat_llm = init_chat_model(**models[0])\n",
    "                            \n",
    "\n",
    "chat_llm"
   ]
  },
  {
   "cell_type": "markdown",
   "id": "25b129d1-3aa5-442a-99a2-3543cb369349",
   "metadata": {},
   "source": [
    "## 2. Define the tools\n",
    "\n",
    "##### 1. Setup tool functions\n",
    "No need to bind the tools to the chatr model"
   ]
  },
  {
   "cell_type": "code",
   "execution_count": 3,
   "id": "c1710851-93dd-4db4-8921-e98e19adf58b",
   "metadata": {},
   "outputs": [],
   "source": [
    "from langchain_core.tools import tool\n",
    "\n",
    "@tool\n",
    "def multiply(number_1: int, number_2: int) -> int:\n",
    "    \"\"\"Multiply two numbers.\"\"\"\n",
    "    return number_1 * number_2\n",
    "\n",
    "@tool\n",
    "def add(number_1: int, number_2: int) -> int:\n",
    "    \"\"\"Add two numbers.\"\"\"\n",
    "    return number_1 + number_2\n",
    "\n",
    "@tool\n",
    "def subtract(number_1: int, number_2: int) -> int:\n",
    "    \"\"\"Subtract two numbers.\"\"\"\n",
    "    return number_1 - number_2"
   ]
  },
  {
   "cell_type": "markdown",
   "id": "fd20ab41-535f-4b60-aa5b-800ccda77927",
   "metadata": {},
   "source": [
    "## 3. Create react agent : basic\n",
    "https://langchain-ai.github.io/langgraph/reference/agents/#langgraph.prebuilt.chat_agent_executor.create_react_agent"
   ]
  },
  {
   "cell_type": "code",
   "execution_count": 4,
   "id": "e928ec1e-17c0-44ac-a698-cfcd9d76fda0",
   "metadata": {},
   "outputs": [
    {
     "data": {
      "image/png": "[encoded data removed]",
      "text/plain": [
       "<langgraph.graph.state.CompiledStateGraph object at 0x00000247C499D520>"
      ]
     },
     "execution_count": 4,
     "metadata": {},
     "output_type": "execute_result"
    }
   ],
   "source": [
    "from langgraph.prebuilt import create_react_agent\n",
    "from langchain_core.messages import HumanMessage\n",
    "\n",
    "# Create the agent\n",
    "agent = create_react_agent(\n",
    "    model = chat_llm,\n",
    "    tools = [add, subtract, multiply],\n",
    "    debug=False     # Set this to True for full debug traces\n",
    ")\n",
    "\n",
    "agent"
   ]
  },
  {
   "cell_type": "code",
   "execution_count": 5,
   "id": "8bd51cda-4b9d-4989-b4d6-ebd42c195e4d",
   "metadata": {},
   "outputs": [],
   "source": [
    "# Invokes the agent and return the response\n",
    "def  invoke_agent(agent, human_message):\n",
    "     input_state = {\"messages\": [HumanMessage(content= human_message)]}\n",
    "     response = agent.invoke(input_state)\n",
    "     return response"
   ]
  },
  {
   "cell_type": "code",
   "execution_count": 6,
   "id": "f259b9ad-bcf3-4b83-ac9b-5b4a41779cd9",
   "metadata": {},
   "outputs": [
    {
     "data": {
      "text/plain": [
       "'The result of \\\\( 200 \\\\times 200 \\\\) is 40,000.'"
      ]
     },
     "execution_count": 6,
     "metadata": {},
     "output_type": "execute_result"
    }
   ],
   "source": [
    "# Test the agent\n",
    "response = invoke_agent(agent, \"200*200\")\n",
    "response[\"messages\"][-1].content"
   ]
  },
  {
   "cell_type": "code",
   "execution_count": 7,
   "id": "f2ae0d53-31d5-4b86-9142-3438b306c178",
   "metadata": {},
   "outputs": [
    {
     "data": {
      "text/plain": [
       "'The capital of France is Paris.'"
      ]
     },
     "execution_count": 7,
     "metadata": {},
     "output_type": "execute_result"
    }
   ],
   "source": [
    "response=invoke_agent(agent, \"capital of france\")\n",
    "response[\"messages\"][-1].content"
   ]
  },
  {
   "cell_type": "markdown",
   "id": "b1ff2014-3c96-4cf6-84ed-f7cfe3e5a38e",
   "metadata": {},
   "source": [
    "## 4. Create agent with custom prompt\n",
    "You can adjust the prompt. In the last test, we asked bot a non-math question and it responded, we do not want the bot to answer non-math questions."
   ]
  },
  {
   "cell_type": "code",
   "execution_count": 8,
   "id": "8b9f3f5a-80ab-450a-954f-1ee181266a43",
   "metadata": {},
   "outputs": [],
   "source": [
    "agent = create_react_agent(\n",
    "    model = chat_llm,\n",
    "    tools = [add, subtract, multiply],\n",
    "    prompt = \"You are a helpful middle school math teacher who can answer basic math questions only. If you are asked question on any other topic you politely decline\",\n",
    ")"
   ]
  },
  {
   "cell_type": "code",
   "execution_count": 9,
   "id": "6695516b-4ad7-4624-a95e-fe9caf4e6023",
   "metadata": {},
   "outputs": [
    {
     "data": {
      "text/plain": [
       "\"I'm sorry, but I can only answer math questions. If you have any math-related questions, feel free to ask!\""
      ]
     },
     "execution_count": 9,
     "metadata": {},
     "output_type": "execute_result"
    }
   ],
   "source": [
    "response=invoke_agent(agent, \"capital of france\")\n",
    "response[\"messages\"][-1].content"
   ]
  },
  {
   "cell_type": "code",
   "execution_count": 10,
   "id": "7944f29e-2f98-478f-a133-c2921fe0b2ee",
   "metadata": {},
   "outputs": [
    {
     "data": {
      "text/plain": [
       "'5 times 2 is 10.'"
      ]
     },
     "execution_count": 10,
     "metadata": {},
     "output_type": "execute_result"
    }
   ],
   "source": [
    "response= invoke_agent(agent, \"what is 5 times 2\")\n",
    "response[\"messages\"][-1].content"
   ]
  },
  {
   "cell_type": "markdown",
   "id": "9c56e5b1-810f-4e01-82dd-ea2e560b1a24",
   "metadata": {},
   "source": [
    "## 5. Create agent that generates structured output\n",
    "You can provide the output format to control the response structure\n",
    "\n",
    "#### Note\n",
    "works only with models that support structured responses agent.with_structured_response "
   ]
  },
  {
   "cell_type": "code",
   "execution_count": 11,
   "id": "5907d6f3-ca2e-4a43-9a98-3ea06cfc0a4f",
   "metadata": {},
   "outputs": [],
   "source": [
    "from pydantic import BaseModel\n",
    "\n",
    "class MathResult(BaseModel):\n",
    "    answer: int\n",
    "    explanation: str\n",
    "\n",
    "agent = create_react_agent(\n",
    "    model = chat_llm,\n",
    "    tools = [add, subtract, multiply],\n",
    "    prompt = \"You are a helpful middle school math teacher who can answer basic math questions only. If you are asked question on any other topic you politely decline\",\n",
    "    response_format = MathResult,\n",
    "    debug=False\n",
    ")"
   ]
  },
  {
   "cell_type": "code",
   "execution_count": 12,
   "id": "d5511c9d-b71c-4ccc-96b8-702aebb19fc2",
   "metadata": {},
   "outputs": [
    {
     "name": "stdout",
     "output_type": "stream",
     "text": [
      "answer=10 explanation='To find the product of 5 and 2, you multiply the two numbers together. This can be shown as: 5 * 2 = 10.'\n"
     ]
    }
   ],
   "source": [
    "response=invoke_agent(agent, \"what is 5 times 2\")\n",
    "print(response[\"structured_response\"])"
   ]
  },
  {
   "cell_type": "code",
   "execution_count": 13,
   "id": "f19c86f0-d70f-4aad-90a5-fa9326e08ad6",
   "metadata": {},
   "outputs": [
    {
     "data": {
      "text/plain": [
       "{'messages': [HumanMessage(content='what is 5 times 2', additional_kwargs={}, response_metadata={}, id='4ba36077-a532-44f2-a208-f4b7b0c86923'),\n",
       "  AIMessage(content='', additional_kwargs={'tool_calls': [{'id': 'call_gprQpQoFbhEUxeUPFwfRHU85', 'function': {'arguments': '{\"number_1\":5,\"number_2\":2}', 'name': 'multiply'}, 'type': 'function'}], 'refusal': None}, response_metadata={'token_usage': {'completion_tokens': 21, 'prompt_tokens': 135, 'total_tokens': 156, 'completion_tokens_details': {'accepted_prediction_tokens': 0, 'audio_tokens': 0, 'reasoning_tokens': 0, 'rejected_prediction_tokens': 0}, 'prompt_tokens_details': {'audio_tokens': 0, 'cached_tokens': 0}}, 'model_name': 'gpt-4o-mini-2024-07-18', 'system_fingerprint': 'fp_560af6e559', 'id': 'chatcmpl-C6eIpbwrLsHO7Un0b8Xx9FMVOJhiR', 'service_tier': 'default', 'finish_reason': 'tool_calls', 'logprobs': None}, id='run--2cecdf7c-94d1-4c35-b7bd-8d66413d9dc7-0', tool_calls=[{'name': 'multiply', 'args': {'number_1': 5, 'number_2': 2}, 'id': 'call_gprQpQoFbhEUxeUPFwfRHU85', 'type': 'tool_call'}], usage_metadata={'input_tokens': 135, 'output_tokens': 21, 'total_tokens': 156, 'input_token_details': {'audio': 0, 'cache_read': 0}, 'output_token_details': {'audio': 0, 'reasoning': 0}}),\n",
       "  ToolMessage(content='10', name='multiply', id='0d0188f5-9478-4fcd-a5fa-72125df1d080', tool_call_id='call_gprQpQoFbhEUxeUPFwfRHU85'),\n",
       "  AIMessage(content='5 times 2 is 10.', additional_kwargs={'refusal': None}, response_metadata={'token_usage': {'completion_tokens': 9, 'prompt_tokens': 164, 'total_tokens': 173, 'completion_tokens_details': {'accepted_prediction_tokens': 0, 'audio_tokens': 0, 'reasoning_tokens': 0, 'rejected_prediction_tokens': 0}, 'prompt_tokens_details': {'audio_tokens': 0, 'cached_tokens': 0}}, 'model_name': 'gpt-4o-mini-2024-07-18', 'system_fingerprint': 'fp_560af6e559', 'id': 'chatcmpl-C6eIqleoLBbkM0Rg2Pw1NvTdBdWah', 'service_tier': 'default', 'finish_reason': 'stop', 'logprobs': None}, id='run--e9c0d7c7-388e-4378-ac30-695e16e15de9-0', usage_metadata={'input_tokens': 164, 'output_tokens': 9, 'total_tokens': 173, 'input_token_details': {'audio': 0, 'cache_read': 0}, 'output_token_details': {'audio': 0, 'reasoning': 0}})],\n",
       " 'structured_response': MathResult(answer=10, explanation='To find the product of 5 and 2, you multiply the two numbers together. This can be shown as: 5 * 2 = 10.')}"
      ]
     },
     "execution_count": 13,
     "metadata": {},
     "output_type": "execute_result"
    }
   ],
   "source": [
    "\n",
    "response"
   ]
  },
  {
   "cell_type": "code",
   "execution_count": null,
   "id": "4e105981-bc86-4cc4-9918-6ddfdb742050",
   "metadata": {},
   "outputs": [],
   "source": []
  }
 ],
 "metadata": {
  "kernelspec": {
   "display_name": "Python 3 (ipykernel)",
   "language": "python",
   "name": "python3"
  },
  "language_info": {
   "codemirror_mode": {
    "name": "ipython",
    "version": 3
   },
   "file_extension": ".py",
   "mimetype": "text/x-python",
   "name": "python",
   "nbconvert_exporter": "python",
   "pygments_lexer": "ipython3",
   "version": "3.12.9"
  }
 },
 "nbformat": 4,
 "nbformat_minor": 5
}
